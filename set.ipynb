{
 "cells": [
  {
   "cell_type": "code",
   "execution_count": 1,
   "id": "b4d59d5f",
   "metadata": {},
   "outputs": [
    {
     "data": {
      "text/plain": [
       "'\\nset\\n\\n1.去重\\n\\nfunc:\\n\\n'"
      ]
     },
     "execution_count": 1,
     "metadata": {},
     "output_type": "execute_result"
    }
   ],
   "source": [
    "'''\n",
    "set\n",
    "\n",
    "1.去重\n",
    "\n",
    "func:\n",
    "\n",
    "a.isdisjoint(b)  a 和 b 有无交集\n",
    "a.issubset(b)  子集\n",
    "a.issuperset(b)  超集\n",
    "a.union(b,c,..)  计算并集\n",
    "a.intersection(b,c,..) 交集\n",
    "a.diffrence(b,c,...)  差集\n",
    "\n",
    "<= , < , >, >= 判断集合关系\n",
    "\n",
    "a | b | c  : 并集\n",
    "交集：&\n",
    "差集：-\n",
    "\n",
    "update()  字符串对象迭代过后插入\n",
    "add()  直接插入字符串对象\n",
    "remove()  会异常\n",
    "discard()  静默处理\n",
    "pop()  随机弹出\n",
    "clear()\n",
    "\n",
    "不可变对象可hash\n",
    "字典和集合必须是可hash对象\n",
    "集合嵌套\n",
    "\n",
    "\n",
    "frozenset(): 不可修改\n",
    "'''"
   ]
  },
  {
   "cell_type": "code",
   "execution_count": 2,
   "id": "9b24a744",
   "metadata": {},
   "outputs": [],
   "source": [
    "x = {1, 2, 3}"
   ]
  },
  {
   "cell_type": "code",
   "execution_count": 3,
   "id": "1fe51715",
   "metadata": {},
   "outputs": [],
   "source": [
    "x = frozenset(x)"
   ]
  },
  {
   "cell_type": "code",
   "execution_count": 4,
   "id": "316f8f3d",
   "metadata": {},
   "outputs": [],
   "source": [
    "y = {x, 4, 5, 6}"
   ]
  },
  {
   "cell_type": "code",
   "execution_count": 5,
   "id": "3d63a018",
   "metadata": {},
   "outputs": [
    {
     "data": {
      "text/plain": [
       "{4, 5, 6, frozenset({1, 2, 3})}"
      ]
     },
     "execution_count": 5,
     "metadata": {},
     "output_type": "execute_result"
    }
   ],
   "source": [
    "y"
   ]
  },
  {
   "cell_type": "code",
   "execution_count": 6,
   "id": "4b294764",
   "metadata": {},
   "outputs": [],
   "source": [
    "x = {1, 2, 3}"
   ]
  },
  {
   "cell_type": "code",
   "execution_count": 7,
   "id": "66610fb9",
   "metadata": {},
   "outputs": [
    {
     "ename": "TypeError",
     "evalue": "unhashable type: 'set'",
     "output_type": "error",
     "traceback": [
      "\u001b[1;31m---------------------------------------------------------------------------\u001b[0m",
      "\u001b[1;31mTypeError\u001b[0m                                 Traceback (most recent call last)",
      "\u001b[1;32m~\\AppData\\Local\\Temp/ipykernel_16432/3451740932.py\u001b[0m in \u001b[0;36m<module>\u001b[1;34m\u001b[0m\n\u001b[1;32m----> 1\u001b[1;33m \u001b[0my\u001b[0m \u001b[1;33m=\u001b[0m \u001b[1;33m{\u001b[0m\u001b[0mx\u001b[0m\u001b[1;33m,\u001b[0m \u001b[1;36m4\u001b[0m\u001b[1;33m,\u001b[0m \u001b[1;36m5\u001b[0m\u001b[1;33m,\u001b[0m \u001b[1;36m6\u001b[0m\u001b[1;33m}\u001b[0m\u001b[1;33m\u001b[0m\u001b[1;33m\u001b[0m\u001b[0m\n\u001b[0m",
      "\u001b[1;31mTypeError\u001b[0m: unhashable type: 'set'"
     ]
    }
   ],
   "source": [
    "y = {x, 4, 5, 6}"
   ]
  },
  {
   "cell_type": "code",
   "execution_count": null,
   "id": "24d4fec4",
   "metadata": {},
   "outputs": [],
   "source": []
  }
 ],
 "metadata": {
  "kernelspec": {
   "display_name": "Python 3 (ipykernel)",
   "language": "python",
   "name": "python3"
  },
  "language_info": {
   "codemirror_mode": {
    "name": "ipython",
    "version": 3
   },
   "file_extension": ".py",
   "mimetype": "text/x-python",
   "name": "python",
   "nbconvert_exporter": "python",
   "pygments_lexer": "ipython3",
   "version": "3.9.7"
  }
 },
 "nbformat": 4,
 "nbformat_minor": 5
}
