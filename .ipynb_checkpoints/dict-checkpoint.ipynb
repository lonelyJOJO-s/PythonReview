{
 "cells": [
  {
   "cell_type": "code",
   "execution_count": 19,
   "id": "41410bc8",
   "metadata": {},
   "outputs": [
    {
     "data": {
      "text/plain": [
       "'\\ndict\\n\\n几种赋值方法\\n\\n删：\\npop(key)  // return vaule and delete the key\\npopitem()  3.7之后字典有序 删除最后一个  以前随机删除一个\\ndel f[key]\\nf.clear()\\n\\n改：\\nupdate()\\nf.update({})\\n\\n查：\\nget()\\n\\ndunc:\\n'"
      ]
     },
     "execution_count": 19,
     "metadata": {},
     "output_type": "execute_result"
    }
   ],
   "source": [
    "'''\n",
    "dict\n",
    "\n",
    "几种赋值方法\n",
    "\n",
    "删：\n",
    "pop(key)  // return vaule and delete the key\n",
    "popitem()  3.7之后字典有序 删除最后一个  以前随机删除一个\n",
    "del f[key]\n",
    "f.clear()\n",
    "\n",
    "改：\n",
    "update()\n",
    "f.update({})\n",
    "\n",
    "查：\n",
    "get()\n",
    "\n",
    "func:\n",
    "以下均为视图对象,随着字典的改变而改变\n",
    "items()\n",
    "keys()\n",
    "values()\n",
    "\n",
    "字典嵌套\n",
    "'''"
   ]
  },
  {
   "cell_type": "code",
   "execution_count": 2,
   "id": "d627f6b6",
   "metadata": {},
   "outputs": [],
   "source": [
    "x = {\"name\": \"jojo\"}"
   ]
  },
  {
   "cell_type": "code",
   "execution_count": 3,
   "id": "8a087815",
   "metadata": {},
   "outputs": [
    {
     "data": {
      "text/plain": [
       "dict"
      ]
     },
     "execution_count": 3,
     "metadata": {},
     "output_type": "execute_result"
    }
   ],
   "source": [
    "type(x)"
   ]
  },
  {
   "cell_type": "code",
   "execution_count": 5,
   "id": "519539eb",
   "metadata": {},
   "outputs": [],
   "source": [
    "x = dict(name=\"jojo\")"
   ]
  },
  {
   "cell_type": "code",
   "execution_count": 14,
   "id": "f22faad9",
   "metadata": {},
   "outputs": [],
   "source": [
    "x = dict([(\"name\", \"jojo\"), (\"age\", 18)])"
   ]
  },
  {
   "cell_type": "code",
   "execution_count": 17,
   "id": "6508b206",
   "metadata": {
    "scrolled": true
   },
   "outputs": [
    {
     "data": {
      "text/plain": [
       "18"
      ]
     },
     "execution_count": 17,
     "metadata": {},
     "output_type": "execute_result"
    }
   ],
   "source": [
    "x[\"age\"]"
   ]
  },
  {
   "cell_type": "code",
   "execution_count": 10,
   "id": "5969fa26",
   "metadata": {},
   "outputs": [],
   "source": [
    "class people:\n",
    "    pass"
   ]
  },
  {
   "cell_type": "code",
   "execution_count": 13,
   "id": "ae30b9bb",
   "metadata": {},
   "outputs": [
    {
     "ename": "SyntaxError",
     "evalue": "invalid syntax (Temp/ipykernel_18840/3403740770.py, line 2)",
     "output_type": "error",
     "traceback": [
      "\u001b[1;36m  File \u001b[1;32m\"C:\\Users\\12078\\AppData\\Local\\Temp/ipykernel_18840/3403740770.py\"\u001b[1;36m, line \u001b[1;32m2\u001b[0m\n\u001b[1;33m    x = dict(one: x)\u001b[0m\n\u001b[1;37m                ^\u001b[0m\n\u001b[1;31mSyntaxError\u001b[0m\u001b[1;31m:\u001b[0m invalid syntax\n"
     ]
    }
   ],
   "source": [
    "x = people()\n",
    "x = dict(one: x)"
   ]
  },
  {
   "cell_type": "code",
   "execution_count": 20,
   "id": "27fa73e5",
   "metadata": {},
   "outputs": [],
   "source": [
    "x = {\"lvbu\":{\"yuwen\":64, \"shuxue\": 88}}"
   ]
  },
  {
   "cell_type": "code",
   "execution_count": 21,
   "id": "c4ca0955",
   "metadata": {},
   "outputs": [
    {
     "data": {
      "text/plain": [
       "64"
      ]
     },
     "execution_count": 21,
     "metadata": {},
     "output_type": "execute_result"
    }
   ],
   "source": [
    "x[\"lvbu\"][\"yuwen\"]"
   ]
  },
  {
   "cell_type": "code",
   "execution_count": 22,
   "id": "5b86c20f",
   "metadata": {},
   "outputs": [],
   "source": [
    "d = {\"a\": 1, \"b\": 2}"
   ]
  },
  {
   "cell_type": "code",
   "execution_count": 24,
   "id": "0a147865",
   "metadata": {},
   "outputs": [],
   "source": [
    "b = {v:k for k, v in d.items()}"
   ]
  },
  {
   "cell_type": "code",
   "execution_count": 25,
   "id": "afc34bf5",
   "metadata": {},
   "outputs": [
    {
     "data": {
      "text/plain": [
       "{1: 'a', 2: 'b'}"
      ]
     },
     "execution_count": 25,
     "metadata": {},
     "output_type": "execute_result"
    }
   ],
   "source": [
    "b"
   ]
  },
  {
   "cell_type": "code",
   "execution_count": null,
   "id": "b8c2197c",
   "metadata": {},
   "outputs": [],
   "source": []
  },
  {
   "cell_type": "code",
   "execution_count": null,
   "id": "4115af53",
   "metadata": {},
   "outputs": [],
   "source": []
  }
 ],
 "metadata": {
  "kernelspec": {
   "display_name": "Python 3 (ipykernel)",
   "language": "python",
   "name": "python3"
  },
  "language_info": {
   "codemirror_mode": {
    "name": "ipython",
    "version": 3
   },
   "file_extension": ".py",
   "mimetype": "text/x-python",
   "name": "python",
   "nbconvert_exporter": "python",
   "pygments_lexer": "ipython3",
   "version": "3.9.7"
  }
 },
 "nbformat": 4,
 "nbformat_minor": 5
}
