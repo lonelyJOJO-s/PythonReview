{
 "cells": [
  {
   "cell_type": "code",
   "execution_count": 1,
   "id": "575c9fdf",
   "metadata": {},
   "outputs": [
    {
     "data": {
      "text/plain": [
       "'list tuple str all is sequnence\\n   共同操作： +  * \\n   is / is not   in / not in  del\\n   min(iterable, default=\"  \"), max()\\n   min(params)\\n   len()\\n   sum(iterable, start=)  在start指定的数基础上加\\n   sorted()\\n   reversed()\\n   \\n'"
      ]
     },
     "execution_count": 1,
     "metadata": {},
     "output_type": "execute_result"
    }
   ],
   "source": [
    "'''\n",
    "list tuple str all is sequnence\n",
    "   共同操作：\n",
    "   +  * \n",
    "   is / is not   in / not in  del\n",
    "   min(iterable, default=\"  \"), max()\n",
    "   min(params)\n",
    "   len()\n",
    "   sum(iterable, start=)  在start指定的数基础上加\n",
    "   sorted(a)  不改变a   a.sort()  a改变 \n",
    "   reversed()  同理  但返回的是一个迭代器\n",
    "   all()  是否全为真 \n",
    "   any()  是否有一个为真\n",
    "   enumerate()  返回一个枚举对象(迭代器)  \n",
    "   zip()  组合对象，返回迭代器\n",
    "   map(func, iterable)  对iterable做映射func，返回迭代器\n",
    "   filter(func, iterable)  返回计算结果为真的迭代器\n",
    "   \n",
    "   迭代器  vs  可迭代对象\n",
    "   迭代器只能遍历一次，而可迭代对象可以重复使用\n",
    "   next(iterable, default=\"  \"): 遍历迭代器\n",
    "   \n",
    "'''"
   ]
  },
  {
   "cell_type": "code",
   "execution_count": 3,
   "id": "deb0e5ca",
   "metadata": {},
   "outputs": [],
   "source": [
    "a = [1, 3, 2, 4, 5]"
   ]
  },
  {
   "cell_type": "code",
   "execution_count": 4,
   "id": "8be74178",
   "metadata": {},
   "outputs": [],
   "source": [
    "a.sort()"
   ]
  },
  {
   "cell_type": "code",
   "execution_count": 5,
   "id": "30f250f5",
   "metadata": {},
   "outputs": [
    {
     "data": {
      "text/plain": [
       "[1, 2, 3, 4, 5]"
      ]
     },
     "execution_count": 5,
     "metadata": {},
     "output_type": "execute_result"
    }
   ],
   "source": [
    "a"
   ]
  },
  {
   "cell_type": "code",
   "execution_count": 6,
   "id": "c1e3a41c",
   "metadata": {},
   "outputs": [],
   "source": [
    "a.reverse()"
   ]
  },
  {
   "cell_type": "code",
   "execution_count": 7,
   "id": "421f95fa",
   "metadata": {},
   "outputs": [
    {
     "data": {
      "text/plain": [
       "[5, 4, 3, 2, 1]"
      ]
     },
     "execution_count": 7,
     "metadata": {},
     "output_type": "execute_result"
    }
   ],
   "source": [
    "a"
   ]
  },
  {
   "cell_type": "code",
   "execution_count": 8,
   "id": "acaad041",
   "metadata": {},
   "outputs": [
    {
     "data": {
      "text/plain": [
       "[1, 2, 3, 4, 5]"
      ]
     },
     "execution_count": 8,
     "metadata": {},
     "output_type": "execute_result"
    }
   ],
   "source": [
    "sorted(a)"
   ]
  },
  {
   "cell_type": "code",
   "execution_count": 9,
   "id": "3fa8df60",
   "metadata": {},
   "outputs": [
    {
     "data": {
      "text/plain": [
       "[5, 4, 3, 2, 1]"
      ]
     },
     "execution_count": 9,
     "metadata": {},
     "output_type": "execute_result"
    }
   ],
   "source": [
    "a"
   ]
  },
  {
   "cell_type": "code",
   "execution_count": 10,
   "id": "d8532133",
   "metadata": {},
   "outputs": [],
   "source": [
    "ll = [\"pen\", \"banana\", \"cat\", \"elephant\"]"
   ]
  },
  {
   "cell_type": "code",
   "execution_count": 11,
   "id": "df90a2d4",
   "metadata": {},
   "outputs": [
    {
     "data": {
      "text/plain": [
       "['pen', 'cat', 'banana', 'elephant']"
      ]
     },
     "execution_count": 11,
     "metadata": {},
     "output_type": "execute_result"
    }
   ],
   "source": [
    "# sorted() 中key接受一个排序函数\n",
    "sorted(ll, key=len)"
   ]
  },
  {
   "cell_type": "code",
   "execution_count": 12,
   "id": "906d36f9",
   "metadata": {},
   "outputs": [
    {
     "data": {
      "text/plain": [
       "[' ', ' ', 'e', 'l', 'o', 'o', 'u', 'v', 'y']"
      ]
     },
     "execution_count": 12,
     "metadata": {},
     "output_type": "execute_result"
    }
   ],
   "source": [
    "sorted(\"l ove you\")"
   ]
  },
  {
   "cell_type": "code",
   "execution_count": 13,
   "id": "85497c27",
   "metadata": {},
   "outputs": [
    {
     "data": {
      "text/plain": [
       "['pen', 'banana', 'cat', 'elephant']"
      ]
     },
     "execution_count": 13,
     "metadata": {},
     "output_type": "execute_result"
    }
   ],
   "source": [
    "ll"
   ]
  },
  {
   "cell_type": "code",
   "execution_count": 14,
   "id": "0d6cb9a6",
   "metadata": {},
   "outputs": [],
   "source": [
    "ll.reverse()"
   ]
  },
  {
   "cell_type": "code",
   "execution_count": 15,
   "id": "d1d89e0b",
   "metadata": {},
   "outputs": [
    {
     "data": {
      "text/plain": [
       "['elephant', 'cat', 'banana', 'pen']"
      ]
     },
     "execution_count": 15,
     "metadata": {},
     "output_type": "execute_result"
    }
   ],
   "source": [
    "ll"
   ]
  },
  {
   "cell_type": "code",
   "execution_count": 16,
   "id": "fff94cb8",
   "metadata": {},
   "outputs": [
    {
     "data": {
      "text/plain": [
       "<list_reverseiterator at 0x1a344159040>"
      ]
     },
     "execution_count": 16,
     "metadata": {},
     "output_type": "execute_result"
    }
   ],
   "source": [
    "reversed(ll)"
   ]
  },
  {
   "cell_type": "code",
   "execution_count": 18,
   "id": "f9156418",
   "metadata": {},
   "outputs": [
    {
     "name": "stdout",
     "output_type": "stream",
     "text": [
      "pen\n",
      "banana\n",
      "cat\n",
      "elephant\n"
     ]
    }
   ],
   "source": [
    "for item in reversed(ll):\n",
    "    print(item)"
   ]
  },
  {
   "cell_type": "code",
   "execution_count": 19,
   "id": "9782987a",
   "metadata": {},
   "outputs": [
    {
     "data": {
      "text/plain": [
       "['pen', 'banana', 'cat', 'elephant']"
      ]
     },
     "execution_count": 19,
     "metadata": {},
     "output_type": "execute_result"
    }
   ],
   "source": [
    "list(reversed(ll))"
   ]
  },
  {
   "cell_type": "code",
   "execution_count": 20,
   "id": "82ea03b6",
   "metadata": {},
   "outputs": [
    {
     "data": {
      "text/plain": [
       "[(0, 'spring'), (1, 'summer'), (2, 'full'), (3, 'winter')]"
      ]
     },
     "execution_count": 20,
     "metadata": {},
     "output_type": "execute_result"
    }
   ],
   "source": [
    "season = ['spring', 'summer', 'full', 'winter']\n",
    "list(enumerate(season))"
   ]
  },
  {
   "cell_type": "code",
   "execution_count": 21,
   "id": "70224bed",
   "metadata": {},
   "outputs": [
    {
     "data": {
      "text/plain": [
       "<enumerate at 0x1a3428a8b80>"
      ]
     },
     "execution_count": 21,
     "metadata": {},
     "output_type": "execute_result"
    }
   ],
   "source": [
    "enumerate(season)"
   ]
  },
  {
   "cell_type": "code",
   "execution_count": 23,
   "id": "b89e2ca1",
   "metadata": {},
   "outputs": [
    {
     "name": "stdout",
     "output_type": "stream",
     "text": [
      "0 : spring\n",
      "1 : summer\n",
      "2 : full\n",
      "3 : winter\n"
     ]
    }
   ],
   "source": [
    "for i, item in enumerate(season):\n",
    "    print(f\"{i} : {item}\")"
   ]
  },
  {
   "cell_type": "code",
   "execution_count": 24,
   "id": "1f60a001",
   "metadata": {},
   "outputs": [],
   "source": [
    "x = [1, 2, 3]\n",
    "y = [4, 5, 6]\n",
    "z = [7, 8, 9]\n",
    "zipped = zip(x, y, z)"
   ]
  },
  {
   "cell_type": "code",
   "execution_count": 25,
   "id": "c8cdad13",
   "metadata": {},
   "outputs": [
    {
     "data": {
      "text/plain": [
       "<zip at 0x1a34417c300>"
      ]
     },
     "execution_count": 25,
     "metadata": {},
     "output_type": "execute_result"
    }
   ],
   "source": [
    "zipped"
   ]
  },
  {
   "cell_type": "code",
   "execution_count": 26,
   "id": "8b8748eb",
   "metadata": {},
   "outputs": [
    {
     "data": {
      "text/plain": [
       "[(1, 4, 7), (2, 5, 8), (3, 6, 9)]"
      ]
     },
     "execution_count": 26,
     "metadata": {},
     "output_type": "execute_result"
    }
   ],
   "source": [
    "list(zipped)"
   ]
  },
  {
   "cell_type": "code",
   "execution_count": 27,
   "id": "c8818563",
   "metadata": {},
   "outputs": [],
   "source": [
    "z = [7, 8, 9, 10]"
   ]
  },
  {
   "cell_type": "code",
   "execution_count": 28,
   "id": "3f51d6d6",
   "metadata": {},
   "outputs": [],
   "source": [
    "zipped = zip(x, y, z)"
   ]
  },
  {
   "cell_type": "code",
   "execution_count": 29,
   "id": "5d0a4caf",
   "metadata": {},
   "outputs": [
    {
     "data": {
      "text/plain": [
       "[(1, 4, 7), (2, 5, 8), (3, 6, 9)]"
      ]
     },
     "execution_count": 29,
     "metadata": {},
     "output_type": "execute_result"
    }
   ],
   "source": [
    "list(zipped)  # 自动截断"
   ]
  },
  {
   "cell_type": "code",
   "execution_count": 30,
   "id": "ce98d789",
   "metadata": {},
   "outputs": [],
   "source": [
    "import itertools"
   ]
  },
  {
   "cell_type": "code",
   "execution_count": 31,
   "id": "46b3c191",
   "metadata": {},
   "outputs": [
    {
     "ename": "NameError",
     "evalue": "name 'zip_longest' is not defined",
     "output_type": "error",
     "traceback": [
      "\u001b[1;31m---------------------------------------------------------------------------\u001b[0m",
      "\u001b[1;31mNameError\u001b[0m                                 Traceback (most recent call last)",
      "\u001b[1;32m~\\AppData\\Local\\Temp/ipykernel_21940/406000897.py\u001b[0m in \u001b[0;36m<module>\u001b[1;34m\u001b[0m\n\u001b[1;32m----> 1\u001b[1;33m \u001b[0mzipped\u001b[0m \u001b[1;33m=\u001b[0m \u001b[0mitertools\u001b[0m\u001b[1;33m,\u001b[0m\u001b[0mzip_longest\u001b[0m\u001b[1;33m(\u001b[0m\u001b[0mx\u001b[0m\u001b[1;33m,\u001b[0m \u001b[0my\u001b[0m \u001b[1;33m,\u001b[0m\u001b[0mz\u001b[0m\u001b[1;33m)\u001b[0m\u001b[1;33m\u001b[0m\u001b[1;33m\u001b[0m\u001b[0m\n\u001b[0m",
      "\u001b[1;31mNameError\u001b[0m: name 'zip_longest' is not defined"
     ]
    }
   ],
   "source": [
    "zipped = itertools,zip_longest(x, y ,z)"
   ]
  },
  {
   "cell_type": "code",
   "execution_count": 32,
   "id": "ec630ce7",
   "metadata": {},
   "outputs": [],
   "source": [
    "def plus1(x):\n",
    "    return x + 1"
   ]
  },
  {
   "cell_type": "code",
   "execution_count": 33,
   "id": "8bfb85f7",
   "metadata": {},
   "outputs": [],
   "source": [
    "mapped = map(plus1, [1, 2, 3, 4])"
   ]
  },
  {
   "cell_type": "code",
   "execution_count": 34,
   "id": "6ca891c2",
   "metadata": {},
   "outputs": [
    {
     "data": {
      "text/plain": [
       "[2, 3, 4, 5]"
      ]
     },
     "execution_count": 34,
     "metadata": {},
     "output_type": "execute_result"
    }
   ],
   "source": [
    "list(mapped)"
   ]
  },
  {
   "cell_type": "code",
   "execution_count": 35,
   "id": "fde8eadb",
   "metadata": {},
   "outputs": [],
   "source": [
    "# for multi-params:"
   ]
  },
  {
   "cell_type": "code",
   "execution_count": 36,
   "id": "5b49b8ee",
   "metadata": {},
   "outputs": [],
   "source": [
    "mapped = map(pow, [2, 3, 4], [5, 6, 7])"
   ]
  },
  {
   "cell_type": "code",
   "execution_count": 37,
   "id": "d410c233",
   "metadata": {},
   "outputs": [
    {
     "data": {
      "text/plain": [
       "[32, 729, 16384]"
      ]
     },
     "execution_count": 37,
     "metadata": {},
     "output_type": "execute_result"
    }
   ],
   "source": [
    "list(mapped)"
   ]
  },
  {
   "cell_type": "code",
   "execution_count": 38,
   "id": "e3ed86a2",
   "metadata": {},
   "outputs": [
    {
     "data": {
      "text/plain": [
       "['o', 'v', 'e', 'o', 'u']"
      ]
     },
     "execution_count": 38,
     "metadata": {},
     "output_type": "execute_result"
    }
   ],
   "source": [
    "list(filter(str.islower, \"I Love You\"))"
   ]
  },
  {
   "cell_type": "code",
   "execution_count": 39,
   "id": "9450625a",
   "metadata": {},
   "outputs": [],
   "source": [
    "y = iter([1, 3, 5])"
   ]
  },
  {
   "cell_type": "code",
   "execution_count": 40,
   "id": "f11472b0",
   "metadata": {},
   "outputs": [
    {
     "data": {
      "text/plain": [
       "1"
      ]
     },
     "execution_count": 40,
     "metadata": {},
     "output_type": "execute_result"
    }
   ],
   "source": [
    "next(y)"
   ]
  },
  {
   "cell_type": "code",
   "execution_count": 41,
   "id": "4f1855f3",
   "metadata": {},
   "outputs": [
    {
     "data": {
      "text/plain": [
       "3"
      ]
     },
     "execution_count": 41,
     "metadata": {},
     "output_type": "execute_result"
    }
   ],
   "source": [
    "next(y)"
   ]
  },
  {
   "cell_type": "code",
   "execution_count": 42,
   "id": "dc889d51",
   "metadata": {},
   "outputs": [
    {
     "data": {
      "text/plain": [
       "5"
      ]
     },
     "execution_count": 42,
     "metadata": {},
     "output_type": "execute_result"
    }
   ],
   "source": [
    "next(y)"
   ]
  },
  {
   "cell_type": "code",
   "execution_count": 43,
   "id": "a3526950",
   "metadata": {},
   "outputs": [
    {
     "ename": "StopIteration",
     "evalue": "",
     "output_type": "error",
     "traceback": [
      "\u001b[1;31m---------------------------------------------------------------------------\u001b[0m",
      "\u001b[1;31mStopIteration\u001b[0m                             Traceback (most recent call last)",
      "\u001b[1;32m~\\AppData\\Local\\Temp/ipykernel_21940/1131913922.py\u001b[0m in \u001b[0;36m<module>\u001b[1;34m\u001b[0m\n\u001b[1;32m----> 1\u001b[1;33m \u001b[0mnext\u001b[0m\u001b[1;33m(\u001b[0m\u001b[0my\u001b[0m\u001b[1;33m)\u001b[0m\u001b[1;33m\u001b[0m\u001b[1;33m\u001b[0m\u001b[0m\n\u001b[0m",
      "\u001b[1;31mStopIteration\u001b[0m: "
     ]
    }
   ],
   "source": [
    "next(y)"
   ]
  },
  {
   "cell_type": "code",
   "execution_count": null,
   "id": "3fef6c1b",
   "metadata": {},
   "outputs": [],
   "source": []
  }
 ],
 "metadata": {
  "kernelspec": {
   "display_name": "Python 3 (ipykernel)",
   "language": "python",
   "name": "python3"
  },
  "language_info": {
   "codemirror_mode": {
    "name": "ipython",
    "version": 3
   },
   "file_extension": ".py",
   "mimetype": "text/x-python",
   "name": "python",
   "nbconvert_exporter": "python",
   "pygments_lexer": "ipython3",
   "version": "3.9.7"
  }
 },
 "nbformat": 4,
 "nbformat_minor": 5
}
