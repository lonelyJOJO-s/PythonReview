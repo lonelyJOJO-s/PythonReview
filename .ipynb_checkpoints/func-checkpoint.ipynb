{
 "cells": [
  {
   "cell_type": "code",
   "execution_count": 13,
   "id": "593a5300",
   "metadata": {},
   "outputs": [
    {
     "data": {
      "text/plain": [
       "'\\nfunc:\\n\\nparams：\\n位置参数  关键字参数\\n位置参数必须在关键字参数之前\\n默认参数（同c++ 默认参数放在最后面）\\n函数原型中会出现 /  /表明左侧参数只支持位置参数，不支持关键字参数\\n*  右侧只能使用关键字参数\\n\\n收集参数：\\n\\n# * 将args打包为元组\\ndef func(*args):\\n\\n# ** 将kwargs打包为字典\\ndef dunc(**args):\\n调用只能使用关键字参数\\n\\n解包参数：\\ndef func(a,b,c):\\n\\n\\n'"
      ]
     },
     "execution_count": 13,
     "metadata": {},
     "output_type": "execute_result"
    }
   ],
   "source": [
    "'''\n",
    "func:\n",
    "\n",
    "params：\n",
    "位置参数  关键字参数\n",
    "位置参数必须在关键字参数之前\n",
    "默认参数（同c++ 默认参数放在最后面）\n",
    "函数原型中会出现 /  /表明左侧参数只支持位置参数，不支持关键字参数\n",
    "*  右侧只能使用关键字参数\n",
    "\n",
    "收集参数：\n",
    "\n",
    "# * 将args打包为元组\n",
    "def func(*args):\n",
    "\n",
    "# ** 将kwargs打包为字典\n",
    "def dunc(**args):\n",
    "调用只能使用关键字参数 \n",
    "\n",
    "解包参数：\n",
    "def func(a,b,c):\n",
    "args=(1,2,3)\n",
    "func(*args)\n",
    "\n",
    "global 实现在函数内部修改全局变量\n",
    "\n",
    "函数嵌套\n",
    "nonlocal 语句\n",
    "\n",
    "LEGB\n",
    "local enclosed global build-in(内置)\n",
    "\n",
    "闭包--closure (工厂函数)\n",
    "\n",
    "装饰器：  函数作为参数传递给另外一个函数\n",
    "@func  具体见下面的例子\n",
    "\n",
    "多装饰器： 先执行add2，再执行add1\n",
    "@add1()\n",
    "@add2()\n",
    "def func():\n",
    "\n",
    "装饰器传参\n",
    "见下例\n",
    "\n",
    "lambda函数 --- 匿名函数\n",
    "lambda arg1,arg2...:expression\n",
    "\n",
    "函数生成器--generator\n",
    "\n",
    "两种创建方法：\n",
    "1.使用yeild关键字， 每次执行yeild生成一份数据，并停止，直到下次调用继续执行 \n",
    "\n",
    "2.生成器推导式：\n",
    "(i for i in range(10))\n",
    "\n",
    "\n",
    "递归\n",
    "\n",
    "文档，类型注释，内省\n",
    "\n",
    "文档：在函数头\"\"\"  \"\"\"中写的内容，可以被help调出来\n",
    "\n",
    "类型注释：def times(s:str, n:int) ->str:\n",
    "            return s * n\n",
    "            (只是方便人们阅读，机器不管)\n",
    "\n",
    "内省：\n",
    "略\n",
    "\n",
    "高阶函数：\n",
    "functools\n",
    "偏函数\n",
    "functools.partial(func, x) 对dunc部分设置参数后形成的偏函数\n",
    "@wraps\n",
    "\n",
    "\n",
    "'''"
   ]
  },
  {
   "cell_type": "code",
   "execution_count": 5,
   "id": "972aab1c",
   "metadata": {},
   "outputs": [],
   "source": [
    "def func(*args):\n",
    "    print(f\"共有 {len(args)} 个参数 \")\n",
    "    print(\"the second param is: {}\".format(args[1]))\n",
    "    "
   ]
  },
  {
   "cell_type": "code",
   "execution_count": 6,
   "id": "a2c311c5",
   "metadata": {},
   "outputs": [
    {
     "name": "stdout",
     "output_type": "stream",
     "text": [
      "共有 3 个参数 \n",
      "the second param is: 2\n"
     ]
    }
   ],
   "source": [
    "func(\"a\", 2, 3)"
   ]
  },
  {
   "cell_type": "code",
   "execution_count": 7,
   "id": "d9501abf",
   "metadata": {},
   "outputs": [
    {
     "name": "stdout",
     "output_type": "stream",
     "text": [
      "共有 1 个参数 \n"
     ]
    },
    {
     "ename": "IndexError",
     "evalue": "tuple index out of range",
     "output_type": "error",
     "traceback": [
      "\u001b[1;31m---------------------------------------------------------------------------\u001b[0m",
      "\u001b[1;31mIndexError\u001b[0m                                Traceback (most recent call last)",
      "\u001b[1;32m~\\AppData\\Local\\Temp/ipykernel_6816/2805895657.py\u001b[0m in \u001b[0;36m<module>\u001b[1;34m\u001b[0m\n\u001b[1;32m----> 1\u001b[1;33m \u001b[0mfunc\u001b[0m\u001b[1;33m(\u001b[0m\u001b[1;34m\"a\"\u001b[0m\u001b[1;33m)\u001b[0m\u001b[1;33m\u001b[0m\u001b[1;33m\u001b[0m\u001b[0m\n\u001b[0m",
      "\u001b[1;32m~\\AppData\\Local\\Temp/ipykernel_6816/3266403361.py\u001b[0m in \u001b[0;36mfunc\u001b[1;34m(*args)\u001b[0m\n\u001b[0;32m      1\u001b[0m \u001b[1;32mdef\u001b[0m \u001b[0mfunc\u001b[0m\u001b[1;33m(\u001b[0m\u001b[1;33m*\u001b[0m\u001b[0margs\u001b[0m\u001b[1;33m)\u001b[0m\u001b[1;33m:\u001b[0m\u001b[1;33m\u001b[0m\u001b[1;33m\u001b[0m\u001b[0m\n\u001b[0;32m      2\u001b[0m     \u001b[0mprint\u001b[0m\u001b[1;33m(\u001b[0m\u001b[1;34mf\"共有 {len(args)} 个参数 \"\u001b[0m\u001b[1;33m)\u001b[0m\u001b[1;33m\u001b[0m\u001b[1;33m\u001b[0m\u001b[0m\n\u001b[1;32m----> 3\u001b[1;33m     \u001b[0mprint\u001b[0m\u001b[1;33m(\u001b[0m\u001b[1;34m\"the second param is: {}\"\u001b[0m\u001b[1;33m.\u001b[0m\u001b[0mformat\u001b[0m\u001b[1;33m(\u001b[0m\u001b[0margs\u001b[0m\u001b[1;33m[\u001b[0m\u001b[1;36m1\u001b[0m\u001b[1;33m]\u001b[0m\u001b[1;33m)\u001b[0m\u001b[1;33m)\u001b[0m\u001b[1;33m\u001b[0m\u001b[1;33m\u001b[0m\u001b[0m\n\u001b[0m\u001b[0;32m      4\u001b[0m \u001b[1;33m\u001b[0m\u001b[0m\n",
      "\u001b[1;31mIndexError\u001b[0m: tuple index out of range"
     ]
    }
   ],
   "source": [
    "func(\"a\")"
   ]
  },
  {
   "cell_type": "code",
   "execution_count": 8,
   "id": "027a8fd8",
   "metadata": {},
   "outputs": [],
   "source": [
    "def func(*args, a, b):\n",
    "   \n",
    "    print(args, a, b)"
   ]
  },
  {
   "cell_type": "code",
   "execution_count": 9,
   "id": "6fb3d3b8",
   "metadata": {},
   "outputs": [
    {
     "ename": "TypeError",
     "evalue": "func() missing 2 required keyword-only arguments: 'a' and 'b'",
     "output_type": "error",
     "traceback": [
      "\u001b[1;31m---------------------------------------------------------------------------\u001b[0m",
      "\u001b[1;31mTypeError\u001b[0m                                 Traceback (most recent call last)",
      "\u001b[1;32m~\\AppData\\Local\\Temp/ipykernel_6816/4076545893.py\u001b[0m in \u001b[0;36m<module>\u001b[1;34m\u001b[0m\n\u001b[1;32m----> 1\u001b[1;33m \u001b[0mfunc\u001b[0m\u001b[1;33m(\u001b[0m\u001b[1;36m1\u001b[0m\u001b[1;33m,\u001b[0m\u001b[1;36m2\u001b[0m\u001b[1;33m,\u001b[0m\u001b[1;36m3\u001b[0m\u001b[1;33m)\u001b[0m\u001b[1;33m\u001b[0m\u001b[1;33m\u001b[0m\u001b[0m\n\u001b[0m",
      "\u001b[1;31mTypeError\u001b[0m: func() missing 2 required keyword-only arguments: 'a' and 'b'"
     ]
    }
   ],
   "source": [
    "func(1,2,3)"
   ]
  },
  {
   "cell_type": "code",
   "execution_count": 10,
   "id": "6acd0d79",
   "metadata": {},
   "outputs": [
    {
     "name": "stdout",
     "output_type": "stream",
     "text": [
      "(1, 2, 3) 4 5\n"
     ]
    }
   ],
   "source": [
    "func(1,2,3, a=4, b=5)"
   ]
  },
  {
   "cell_type": "code",
   "execution_count": 12,
   "id": "75c26e5b",
   "metadata": {},
   "outputs": [],
   "source": [
    "def get_sum(a, *args, **kwargs):\n",
    "    pass"
   ]
  },
  {
   "cell_type": "code",
   "execution_count": 14,
   "id": "40d8e939",
   "metadata": {},
   "outputs": [],
   "source": [
    "x = 520"
   ]
  },
  {
   "cell_type": "code",
   "execution_count": 17,
   "id": "26b46e4e",
   "metadata": {},
   "outputs": [],
   "source": [
    "def func():\n",
    "    global x\n",
    "    x = 111\n",
    "    print(x)"
   ]
  },
  {
   "cell_type": "code",
   "execution_count": 18,
   "id": "c089332c",
   "metadata": {},
   "outputs": [
    {
     "name": "stdout",
     "output_type": "stream",
     "text": [
      "111\n"
     ]
    }
   ],
   "source": [
    "func()"
   ]
  },
  {
   "cell_type": "code",
   "execution_count": 19,
   "id": "c998dc43",
   "metadata": {},
   "outputs": [
    {
     "data": {
      "text/plain": [
       "111"
      ]
     },
     "execution_count": 19,
     "metadata": {},
     "output_type": "execute_result"
    }
   ],
   "source": [
    "x"
   ]
  },
  {
   "cell_type": "code",
   "execution_count": 23,
   "id": "67cc787e",
   "metadata": {},
   "outputs": [],
   "source": [
    "def func1():\n",
    "    x = 111\n",
    "    def func2():\n",
    "        nonlocal x\n",
    "        x = 123\n",
    "        print(x)\n",
    "    func2()\n",
    "    print(x)\n"
   ]
  },
  {
   "cell_type": "code",
   "execution_count": 21,
   "id": "11ab42b8",
   "metadata": {},
   "outputs": [
    {
     "data": {
      "text/plain": [
       "<function __main__.func1()>"
      ]
     },
     "execution_count": 21,
     "metadata": {},
     "output_type": "execute_result"
    }
   ],
   "source": [
    "func1"
   ]
  },
  {
   "cell_type": "code",
   "execution_count": 24,
   "id": "7b8e6f2f",
   "metadata": {},
   "outputs": [
    {
     "name": "stdout",
     "output_type": "stream",
     "text": [
      "123\n",
      "123\n"
     ]
    }
   ],
   "source": [
    "func1()"
   ]
  },
  {
   "cell_type": "code",
   "execution_count": 26,
   "id": "83cf4e76",
   "metadata": {},
   "outputs": [],
   "source": [
    "def fc1():\n",
    "    x = 520\n",
    "    def fc2():\n",
    "        print(x)\n",
    "    return fc2"
   ]
  },
  {
   "cell_type": "code",
   "execution_count": 27,
   "id": "2536a126",
   "metadata": {},
   "outputs": [
    {
     "name": "stdout",
     "output_type": "stream",
     "text": [
      "520\n"
     ]
    }
   ],
   "source": [
    "fc1()()"
   ]
  },
  {
   "cell_type": "code",
   "execution_count": 28,
   "id": "aeb9feaa",
   "metadata": {},
   "outputs": [],
   "source": [
    "f = fc1()"
   ]
  },
  {
   "cell_type": "code",
   "execution_count": 29,
   "id": "b5c8ee32",
   "metadata": {},
   "outputs": [
    {
     "name": "stdout",
     "output_type": "stream",
     "text": [
      "520\n"
     ]
    }
   ],
   "source": [
    "f()  # 外层作用域的变量会保存下来！！！"
   ]
  },
  {
   "cell_type": "code",
   "execution_count": 34,
   "id": "c4bb4d43",
   "metadata": {},
   "outputs": [],
   "source": [
    "def func1():\n",
    "    x = 1\n",
    "    y = 2\n",
    "    def func2(a, b):\n",
    "        nonlocal x, y\n",
    "        x += a\n",
    "        y += b\n",
    "        print(x, y)\n",
    "    return func2"
   ]
  },
  {
   "cell_type": "code",
   "execution_count": 35,
   "id": "012c706f",
   "metadata": {},
   "outputs": [],
   "source": [
    "move = func1()"
   ]
  },
  {
   "cell_type": "code",
   "execution_count": 36,
   "id": "ca5c46eb",
   "metadata": {},
   "outputs": [
    {
     "name": "stdout",
     "output_type": "stream",
     "text": [
      "2 4\n"
     ]
    }
   ],
   "source": [
    "move(1, 2)"
   ]
  },
  {
   "cell_type": "code",
   "execution_count": 40,
   "id": "cef510c7",
   "metadata": {
    "scrolled": true
   },
   "outputs": [
    {
     "name": "stdout",
     "output_type": "stream",
     "text": [
      "5 10\n"
     ]
    }
   ],
   "source": [
    "move(1, 2)\n",
    "import time"
   ]
  },
  {
   "cell_type": "code",
   "execution_count": 47,
   "id": "c606c7d2",
   "metadata": {},
   "outputs": [],
   "source": [
    "def timeMaster(func):\n",
    "    def call_func():\n",
    "        start = time.time()\n",
    "        print(\"程序开始执行\")\n",
    "        func()\n",
    "        print(\"程序执行完毕\")\n",
    "        end = time.time()\n",
    "        print(f\"一共执行了{end - start: .2f}秒\")\n",
    "    return call_func"
   ]
  },
  {
   "cell_type": "code",
   "execution_count": 48,
   "id": "5472da05",
   "metadata": {},
   "outputs": [],
   "source": [
    "def f1():\n",
    "    time.sleep(1)\n",
    "    print(\"主函数正在执行\")"
   ]
  },
  {
   "cell_type": "code",
   "execution_count": 49,
   "id": "07fce502",
   "metadata": {},
   "outputs": [
    {
     "name": "stdout",
     "output_type": "stream",
     "text": [
      "程序开始执行\n",
      "主函数正在执行\n",
      "程序执行完毕\n",
      "一共执行了 1.00秒\n"
     ]
    }
   ],
   "source": [
    "f1 = timeMaster(f1)\n",
    "f1()"
   ]
  },
  {
   "cell_type": "code",
   "execution_count": 57,
   "id": "92cc2172",
   "metadata": {},
   "outputs": [],
   "source": [
    "@timeMaster\n",
    "def f2():\n",
    "    time.sleep(2)\n",
    "    print('hello')"
   ]
  },
  {
   "cell_type": "code",
   "execution_count": 52,
   "id": "f9acb710",
   "metadata": {},
   "outputs": [
    {
     "name": "stdout",
     "output_type": "stream",
     "text": [
      "程序开始执行\n",
      "hello\n",
      "程序执行完毕\n",
      "一共执行了 2.01秒\n"
     ]
    }
   ],
   "source": [
    "f2()"
   ]
  },
  {
   "cell_type": "code",
   "execution_count": 70,
   "id": "d3956faf",
   "metadata": {},
   "outputs": [],
   "source": [
    "def logger(arg):\n",
    "    print(arg)\n",
    "    def call_func(func):\n",
    "        def hello():\n",
    "            func();\n",
    "        return hello\n",
    "    return call_func"
   ]
  },
  {
   "cell_type": "code",
   "execution_count": 71,
   "id": "fae602ad",
   "metadata": {},
   "outputs": [
    {
     "name": "stdout",
     "output_type": "stream",
     "text": [
      "i love you\n",
      "you love me\n"
     ]
    }
   ],
   "source": [
    "@logger(arg=\"i love you\")\n",
    "def funcA():\n",
    "    print(\" i am a\")\n",
    "\n",
    "@logger('you love me')\n",
    "def funcB():\n",
    "    print(\"i am b\")\n",
    "        "
   ]
  },
  {
   "cell_type": "code",
   "execution_count": 72,
   "id": "f79b8eb2",
   "metadata": {},
   "outputs": [
    {
     "name": "stdout",
     "output_type": "stream",
     "text": [
      " i am a\n"
     ]
    }
   ],
   "source": [
    "funcA()"
   ]
  },
  {
   "cell_type": "code",
   "execution_count": 73,
   "id": "34c86ab5",
   "metadata": {},
   "outputs": [
    {
     "name": "stdout",
     "output_type": "stream",
     "text": [
      "i am b\n"
     ]
    }
   ],
   "source": [
    "funcB()"
   ]
  },
  {
   "cell_type": "code",
   "execution_count": 65,
   "id": "4df896dc",
   "metadata": {},
   "outputs": [
    {
     "name": "stdout",
     "output_type": "stream",
     "text": [
      "None\n"
     ]
    }
   ],
   "source": [
    "print(funcA)"
   ]
  },
  {
   "cell_type": "code",
   "execution_count": 75,
   "id": "11d1d411",
   "metadata": {},
   "outputs": [],
   "source": [
    "# generator\n",
    "def generator():\n",
    "    for i in range(10):\n",
    "        yield i"
   ]
  },
  {
   "cell_type": "code",
   "execution_count": 77,
   "id": "1f8db1bd",
   "metadata": {},
   "outputs": [],
   "source": [
    "c = generator()"
   ]
  },
  {
   "cell_type": "code",
   "execution_count": 78,
   "id": "8f33c44c",
   "metadata": {},
   "outputs": [
    {
     "data": {
      "text/plain": [
       "0"
      ]
     },
     "execution_count": 78,
     "metadata": {},
     "output_type": "execute_result"
    }
   ],
   "source": [
    "next(c)"
   ]
  },
  {
   "cell_type": "code",
   "execution_count": 80,
   "id": "c063f893",
   "metadata": {},
   "outputs": [
    {
     "name": "stdout",
     "output_type": "stream",
     "text": [
      "0\n",
      "1\n",
      "2\n",
      "3\n",
      "4\n",
      "5\n",
      "6\n",
      "7\n",
      "8\n",
      "9\n"
     ]
    }
   ],
   "source": [
    "for item in generator():\n",
    "    print(item)"
   ]
  },
  {
   "cell_type": "code",
   "execution_count": 86,
   "id": "46bd683d",
   "metadata": {},
   "outputs": [],
   "source": [
    "def hano(n, a, b, c):\n",
    "    if n == 1:\n",
    "        print(f\"move {n} from {a} to {c}\")\n",
    "        return\n",
    "    hano(n - 1, a, c, b)\n",
    "    print(f\"move {n} from {a} to {c}\")\n",
    "    hano(n - 1, b, a, c)\n",
    "    "
   ]
  },
  {
   "cell_type": "code",
   "execution_count": 87,
   "id": "0ff85fd5",
   "metadata": {},
   "outputs": [
    {
     "name": "stdout",
     "output_type": "stream",
     "text": [
      "move 1 from a to c\n",
      "move 2 from a to b\n",
      "move 1 from c to b\n",
      "move 3 from a to c\n",
      "move 1 from b to a\n",
      "move 2 from b to c\n",
      "move 1 from a to c\n"
     ]
    }
   ],
   "source": [
    "hano(3, 'a', 'b', 'c')"
   ]
  },
  {
   "cell_type": "code",
   "execution_count": 88,
   "id": "649c5eec",
   "metadata": {},
   "outputs": [
    {
     "name": "stdout",
     "output_type": "stream",
     "text": [
      "move 1 from a to c\n",
      "move 2 from a to b\n",
      "move 1 from c to b\n",
      "move 3 from a to c\n",
      "move 1 from b to a\n",
      "move 2 from b to c\n",
      "move 1 from a to c\n",
      "move 4 from a to b\n",
      "move 1 from c to b\n",
      "move 2 from c to a\n",
      "move 1 from b to a\n",
      "move 3 from c to b\n",
      "move 1 from a to c\n",
      "move 2 from a to b\n",
      "move 1 from c to b\n",
      "move 5 from a to c\n",
      "move 1 from b to a\n",
      "move 2 from b to c\n",
      "move 1 from a to c\n",
      "move 3 from b to a\n",
      "move 1 from c to b\n",
      "move 2 from c to a\n",
      "move 1 from b to a\n",
      "move 4 from b to c\n",
      "move 1 from a to c\n",
      "move 2 from a to b\n",
      "move 1 from c to b\n",
      "move 3 from a to c\n",
      "move 1 from b to a\n",
      "move 2 from b to c\n",
      "move 1 from a to c\n"
     ]
    }
   ],
   "source": [
    "hano(5, 'a', 'b', 'c')"
   ]
  },
  {
   "cell_type": "code",
   "execution_count": 89,
   "id": "e88f511b",
   "metadata": {},
   "outputs": [],
   "source": [
    "import functools"
   ]
  },
  {
   "cell_type": "code",
   "execution_count": 90,
   "id": "66baaa1d",
   "metadata": {},
   "outputs": [],
   "source": [
    "def add(x, y):\n",
    "    return x + y"
   ]
  },
  {
   "cell_type": "code",
   "execution_count": 91,
   "id": "a359cc98",
   "metadata": {},
   "outputs": [
    {
     "data": {
      "text/plain": [
       "15"
      ]
     },
     "execution_count": 91,
     "metadata": {},
     "output_type": "execute_result"
    }
   ],
   "source": [
    "# reduce function: 对迭代器重复使用输入函数\n",
    "functools.reduce(add, [1, 2, 3, 4, 5])"
   ]
  },
  {
   "cell_type": "code",
   "execution_count": 94,
   "id": "6b356345",
   "metadata": {},
   "outputs": [
    {
     "data": {
      "text/plain": [
       "362880"
      ]
     },
     "execution_count": 94,
     "metadata": {},
     "output_type": "execute_result"
    }
   ],
   "source": [
    "functools.reduce(lambda x, y: x * y,range(1, 10))"
   ]
  },
  {
   "cell_type": "code",
   "execution_count": 98,
   "id": "9de2c424",
   "metadata": {},
   "outputs": [],
   "source": [
    "squre = functools.partial(pow, exp=2)"
   ]
  },
  {
   "cell_type": "code",
   "execution_count": 99,
   "id": "e57bc9f6",
   "metadata": {},
   "outputs": [
    {
     "data": {
      "text/plain": [
       "9"
      ]
     },
     "execution_count": 99,
     "metadata": {},
     "output_type": "execute_result"
    }
   ],
   "source": [
    "squre(3)"
   ]
  },
  {
   "cell_type": "code",
   "execution_count": 97,
   "id": "56aab750",
   "metadata": {},
   "outputs": [
    {
     "name": "stdout",
     "output_type": "stream",
     "text": [
      "Help on built-in function pow in module builtins:\n",
      "\n",
      "pow(base, exp, mod=None)\n",
      "    Equivalent to base**exp with 2 arguments or base**exp % mod with 3 arguments\n",
      "    \n",
      "    Some types, such as ints, are able to use a more efficient algorithm when\n",
      "    invoked using the three argument form.\n",
      "\n"
     ]
    }
   ],
   "source": [
    "help(pow)"
   ]
  },
  {
   "cell_type": "code",
   "execution_count": null,
   "id": "c4394d2b",
   "metadata": {},
   "outputs": [],
   "source": []
  }
 ],
 "metadata": {
  "kernelspec": {
   "display_name": "Python 3 (ipykernel)",
   "language": "python",
   "name": "python3"
  },
  "language_info": {
   "codemirror_mode": {
    "name": "ipython",
    "version": 3
   },
   "file_extension": ".py",
   "mimetype": "text/x-python",
   "name": "python",
   "nbconvert_exporter": "python",
   "pygments_lexer": "ipython3",
   "version": "3.9.7"
  }
 },
 "nbformat": 4,
 "nbformat_minor": 5
}
